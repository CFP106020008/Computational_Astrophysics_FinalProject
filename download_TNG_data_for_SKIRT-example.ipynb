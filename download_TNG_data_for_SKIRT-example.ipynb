{
 "cells": [
  {
   "cell_type": "code",
   "execution_count": 1,
   "metadata": {},
   "outputs": [],
   "source": [
    "# settings of api request\n",
    "\n",
    "import requests\n",
    "baseUrl = 'http://www.tng-project.org/api/'\n",
    "headers = {\"api-key\":\"6a883b0dea91aa886c3dbc7b9456d9f3\"} # use my api-key or enter yours\n",
    "\n",
    "def get(path, params=None):\n",
    "    # make HTTP GET request to path\n",
    "    r = requests.get(path, params=params, headers=headers)\n",
    "\n",
    "    # raise exception if response code is not HTTP SUCCESS (200)\n",
    "    r.raise_for_status()\n",
    "\n",
    "    if r.headers['content-type'] == 'application/json':\n",
    "        return r.json() # parse json responses automatically\n",
    "\n",
    "    if 'content-disposition' in r.headers:\n",
    "        filename = r.headers['content-disposition'].split(\"filename=\")[1]\n",
    "        with open(filename, 'wb') as f:\n",
    "            f.write(r.content)\n",
    "        return filename # return the filename string\n",
    "\n",
    "    return r"
   ]
  },
  {
   "cell_type": "code",
   "execution_count": 2,
   "metadata": {},
   "outputs": [],
   "source": [
    "# import \n",
    "import numpy as np\n",
    "from astropy.io import fits\n",
    "import matplotlib.pyplot as plt"
   ]
  },
  {
   "cell_type": "code",
   "execution_count": 3,
   "metadata": {},
   "outputs": [],
   "source": [
    "# set the cosmology you prefer\n",
    "from astropy.cosmology import Planck15\n",
    "cosmo = Planck15\n",
    "h =  cosmo.H(5).value/100"
   ]
  },
  {
   "cell_type": "code",
   "execution_count": 4,
   "metadata": {},
   "outputs": [],
   "source": [
    "r = get(baseUrl)"
   ]
  },
  {
   "cell_type": "code",
   "execution_count": 5,
   "metadata": {},
   "outputs": [
    {
     "data": {
      "text/plain": [
       "100"
      ]
     },
     "execution_count": 5,
     "metadata": {},
     "output_type": "execute_result"
    }
   ],
   "source": [
    "# get total snapshot numbers\n",
    "names = [sim['name'] for sim in r['simulations']]\n",
    "simname = 'TNG100-1'\n",
    "i = names.index(simname)\n",
    "sim = get( r['simulations'][i]['url'] )\n",
    "snaps = get( sim['snapshots'] )\n",
    "len(snaps)\n",
    "#print(snaps)"
   ]
  },
  {
   "cell_type": "code",
   "execution_count": 10,
   "metadata": {},
   "outputs": [
    {
     "data": {
      "text/plain": [
       "4.99593346816462"
      ]
     },
     "execution_count": 10,
     "metadata": {},
     "output_type": "execute_result"
    }
   ],
   "source": [
    "# get redshift of \"redshift 0\"\n",
    "snap_number = 17\n",
    "z0 = snaps[snap_number]['redshift']\n",
    "from astropy.coordinates import Distance\n",
    "import astropy.units as u\n",
    "z0"
   ]
  },
  {
   "cell_type": "code",
   "execution_count": 11,
   "metadata": {},
   "outputs": [],
   "source": [
    "# convert ckpc/h to kpc\n",
    "def comv_to_phys(R_comv, z):\n",
    "    R_phys=R_comv/(1+z)\n",
    "    R_phys = R_phys/h\n",
    "    return R_phys"
   ]
  },
  {
   "cell_type": "code",
   "execution_count": 23,
   "metadata": {},
   "outputs": [],
   "source": [
    "subid=278 #enter the subhalo id"
   ]
  },
  {
   "cell_type": "code",
   "execution_count": 24,
   "metadata": {},
   "outputs": [
    {
     "name": "stdout",
     "output_type": "stream",
     "text": [
      "http://www.tng-project.org/api/TNG100-1/snapshots/17/subhalos/278\n"
     ]
    },
    {
     "data": {
      "text/plain": [
       "(10914.7, 29171.3, 72776.0)"
      ]
     },
     "execution_count": 24,
     "metadata": {},
     "output_type": "execute_result"
    }
   ],
   "source": [
    "import h5py\n",
    "start_url = \"http://www.tng-project.org/api/%s/snapshots/\"%simname + str(snap_number) + \"/subhalos/\" + str(subid)\n",
    "print(start_url)\n",
    "sub_prog_url = start_url\n",
    "sub_prog = get(sub_prog_url)\n",
    "sub_prog['pos_x'], sub_prog['pos_y'], sub_prog['pos_z']"
   ]
  },
  {
   "cell_type": "code",
   "execution_count": 25,
   "metadata": {},
   "outputs": [],
   "source": [
    "cutout_request = {'gas':'Coordinates,SubfindHsml,Masses,GFM_Metallicity,StarFormationRate'} # do not add space after comma\n",
    "cutout = get(sub_prog_url+\"/cutout.hdf5\", cutout_request)"
   ]
  },
  {
   "cell_type": "code",
   "execution_count": 26,
   "metadata": {},
   "outputs": [
    {
     "data": {
      "text/plain": [
       "'http://www.tng-project.org/api/TNG100-1/snapshots/17/subhalos/278/cutout.hdf5'"
      ]
     },
     "execution_count": 26,
     "metadata": {},
     "output_type": "execute_result"
    }
   ],
   "source": [
    "sub_prog_url+\"/cutout.hdf5\""
   ]
  },
  {
   "cell_type": "code",
   "execution_count": 27,
   "metadata": {},
   "outputs": [],
   "source": [
    "with h5py.File(cutout,'r') as f:\n",
    "    x = comv_to_phys(f['PartType0']['Coordinates'][:,0] - sub_prog['pos_x'], z0)\n",
    "    y = comv_to_phys(f['PartType0']['Coordinates'][:,1] - sub_prog['pos_y'], z0)\n",
    "    z = comv_to_phys(f['PartType0']['Coordinates'][:,2] - sub_prog['pos_z'], z0)\n",
    "    hsml = comv_to_phys(f['PartType0']['SubfindHsml'][:], z0)\n",
    "    mass = f['PartType0']['Masses'][:]*10**10\n",
    "    Z = f['PartType0']['GFM_Metallicity'][:]\n",
    "    SFR=f['PartType0']['StarFormationRate'][:]\n"
   ]
  },
  {
   "cell_type": "code",
   "execution_count": 28,
   "metadata": {},
   "outputs": [],
   "source": [
    "data = np.vstack((x,y,z,hsml, mass, Z))"
   ]
  },
  {
   "cell_type": "code",
   "execution_count": 29,
   "metadata": {},
   "outputs": [],
   "source": [
    "hdr = \"Column 1: x-coordinate (kpc)\\n\\\n",
    "Column 2: y-coordinate (kpc)\\n\\\n",
    "Column 3: z-coordinate (kpc)\\n\\\n",
    "Column 4: smoothing length (kpc)\\n\\\n",
    "Column 5: gas mass (Msun)\\n\\\n",
    "Column 6: metallicity (1)\"\n",
    "np.savetxt(\"./%s_gas_id%d.txt\"%(simname, subid), data.T, fmt='%.6e', header = hdr)   #change the path"
   ]
  },
  {
   "cell_type": "code",
   "execution_count": 30,
   "metadata": {},
   "outputs": [],
   "source": [
    "# Cut out stellar particle\n",
    "cutout_request = {'stars':'Coordinates,SubfindHsml,StellarHsml,GFM_InitialMass,GFM_Metallicity,GFM_StellarFormationTime'}\n",
    "cutout = get(sub_prog_url+\"/cutout.hdf5\", cutout_request)"
   ]
  },
  {
   "cell_type": "code",
   "execution_count": 31,
   "metadata": {},
   "outputs": [
    {
     "name": "stdout",
     "output_type": "stream",
     "text": [
      "[0.12746969 0.01795846 0.00441808 ...        nan        nan        nan]\n"
     ]
    }
   ],
   "source": [
    "with h5py.File(cutout,'r') as f:\n",
    "    x = comv_to_phys(f['PartType4']['Coordinates'][:,0] - sub_prog['pos_x'], z0)\n",
    "    y = comv_to_phys(f['PartType4']['Coordinates'][:,1] - sub_prog['pos_y'], z0)\n",
    "    z = comv_to_phys(f['PartType4']['Coordinates'][:,2] - sub_prog['pos_z'], z0)\n",
    "    hsml = comv_to_phys(f['PartType4']['StellarHsml'][:], z0)\n",
    "    imass = f['PartType4']['GFM_InitialMass'][:]*10**10\n",
    "    Z = f['PartType4']['GFM_Metallicity'][:]\n",
    "    age = Planck15.lookback_time(1/f['PartType4']['GFM_StellarFormationTime'][:]-1)-Planck15.lookback_time(z0)\n",
    "    age = age.value\n",
    "    print(age)\n"
   ]
  },
  {
   "cell_type": "code",
   "execution_count": 32,
   "metadata": {},
   "outputs": [],
   "source": [
    "data = np.vstack((x,y,z,hsml, imass, Z, age))\n",
    "\n",
    "hdr = \"Column 1: x-coordinate (kpc)\\n\\\n",
    "Column 2: y-coordinate (kpc)\\n\\\n",
    "Column 3: z-coordinate (kpc)\\n\\\n",
    "Column 4: smoothing length (kpc)\\n\\\n",
    "Column 5: initial mass (Msun)\\n\\\n",
    "Column 6: metallicity (1)\\n\\\n",
    "Column 7: age (Gyr)\"\n",
    "np.savetxt(\"./%s_star_id%d.txt\"\n",
    "%(simname, subid), data.T, fmt='%.6e', header = hdr) #change the path\n",
    "stars = np.loadtxt(\"./%s_star_id%d.txt\"%(simname, subid))\n",
    "RMList = []\n",
    "for i in range(np.shape(stars)[0]):\n",
    "    if np.isnan(stars[i,6]) :\n",
    "        RMList.append(i)\n",
    "stars = np.delete(stars,RMList,0)\n",
    "np.savetxt(\"./%s_star_id%d.txt\"\n",
    "%(simname, subid), stars, fmt='%.6e', header = hdr)"
   ]
  },
  {
   "cell_type": "code",
   "execution_count": 33,
   "metadata": {},
   "outputs": [],
   "source": [
    "stars = np.loadtxt('TNG100-1_star_id845.txt')\n",
    "#print(np.shape(stars)[0])\n",
    "RMList = []\n",
    "\n",
    "for i in range(np.shape(stars)[0]):\n",
    "    if np.isnan(stars[i,6]) :\n",
    "        RMList.append(i)\n",
    "    else:\n",
    "        a=1\n",
    "\n",
    "#print(RMList)\n",
    "stars = np.delete(stars,RMList,0)\n",
    "#print(np.shape(stars)[0])\n",
    "np.savetxt('TNG100-1_star_id845.txt', stars)"
   ]
  }
 ],
 "metadata": {
  "kernelspec": {
   "display_name": "Python 3",
   "language": "python",
   "name": "python3"
  },
  "language_info": {
   "codemirror_mode": {
    "name": "ipython",
    "version": 3
   },
   "file_extension": ".py",
   "mimetype": "text/x-python",
   "name": "python",
   "nbconvert_exporter": "python",
   "pygments_lexer": "ipython3",
   "version": "3.7.4"
  }
 },
 "nbformat": 4,
 "nbformat_minor": 2
}
